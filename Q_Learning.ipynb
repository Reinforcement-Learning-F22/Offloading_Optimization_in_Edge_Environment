{
 "cells": [
  {
   "cell_type": "code",
   "execution_count": 20,
   "metadata": {
    "id": "jKUepQJdKTCT"
   },
   "outputs": [],
   "source": [
    "import numpy as np\n",
    "import random\n",
    "import itertools\n",
    "import scipy.misc\n",
    "import matplotlib.pyplot as plt\n",
    "import random\n",
    "import networkx as nx\n",
    "\n",
    "\n",
    "# hyper parameters\n",
    "K = 25\n",
    "# T_max = 9\n",
    "r_endpoint  = 2\n",
    "r_edgeserver = 5 \n",
    "time_slot_duration = 50 #seconds\n",
    "discount_factor = 0.1\n",
    "learning_rate = 0.001\n",
    "epsilon = 0.99\n",
    "\n",
    "\n",
    "\n",
    "class Env():\n",
    "    def __init__(self,endpoints, edgeservers,):\n",
    "        self.endpoints = endpoints\n",
    "        self.edgeservers = edgeservers\n",
    "        self.G = nx.Graph()\n",
    "        self.edges = []\n",
    "        self.nodes = np.zeros(1  + edgeservers + endpoints)  #this is the processing power\n",
    "        self.base_index = self.edgeservers + 1\n",
    "        # self.r_endpoints = \n",
    "        self.resources = [np.zeros(1000)]+[np.zeros(r_edgeserver) for _ in range(self.edgeservers)] + [np.zeros(r_endpoint) for _ in range(self.endpoints)]\n",
    "        self.n_actions = 1 + self.edgeservers + 1\n",
    "        self.workloads = []\n",
    "        \n",
    "\n",
    "\n",
    "    def configure_network(self):\n",
    "\n",
    "        # declaring the edges between core cloud and the edgeserves\n",
    "        for j in range(1, self.edgeservers + 1):\n",
    "          # self.edges.append((0,j ))\n",
    "          self.G.add_edge(j,0)\n",
    "          self.G[j][0]['weight'] = random.uniform(400,500)\n",
    "          \n",
    "\n",
    "        # declaring the edges between edgeservers\n",
    "        for i in range(1, self.edgeservers):\n",
    "          self.G.add_edge(i,i+1)\n",
    "          self.G.add_edge(i+1,i)\n",
    "          self.G[i][i+1]['weight'] = random.uniform(250,300)\n",
    "\n",
    "        # declaring the edges between edgeservers and endpoints\n",
    "        for i,j in zip(range(1 + self.edgeservers ,self.endpoints + 1 + self.edgeservers), np.resize(np.arange(1,self.edgeservers + 1), self.endpoints)):\n",
    "          self.G.add_edge(i,j)\n",
    "          self.G[i][j]['weight'] = random.uniform(180,250)\n",
    "\n",
    "        # print(self.G[0])\n",
    "\n",
    "        # declaring the processing power \n",
    "        self.nodes[0] = random.uniform(5000,7000) # Core cloud processing power\n",
    "        for i in range(1,self.base_index):\n",
    "          self.nodes[i] = random.uniform(500,2500) # Edge serverse processing power\n",
    "        for i in range(self.base_index, len(self.nodes)):\n",
    "          self.nodes[i] = random.uniform(50,300) # Endpoints porcessing power\n",
    "        \n",
    "    \n",
    "\n",
    "    def generate_task(self):\n",
    "        # generating workload values (fixed workloads) #first value is the offload and the second value is the emergency level\n",
    "        self.workloads = [(i, random.uniform(1e3 * 3.0, 1e4 * 3.0), np.random.choice([0,1], p=[0.7, 0.3]))  for i in range(self.endpoints)] \n",
    "        # return self.workloads\n",
    "\n",
    "    def initalize_Qtable(self):\n",
    "        self.Qtable = np.zeros((self.endpoints, 1 + self.edgeservers + 1))\n",
    "        # print(self.Qtable)\n",
    "\n",
    "    def reward(self, node1, node2, W): # according to task formulation \n",
    "      latency = 0\n",
    "      if node2 == self.n_actions - 1 :\n",
    "        node2 = node1\n",
    "      path = nx.shortest_path(self.G, source = node1,  target = node2)\n",
    "      for i in range(len(path) - 1):\n",
    "        B = self.G[i][i+1]['weight']\n",
    "        latency += W / (B * self.network_gain())\n",
    "      latency += W / self.nodes[int(node2)] \n",
    "      return latency\n",
    "    \n",
    "\n",
    "    def policy_action(self):\n",
    "      self.actions = np.zeros(self.endpoints)\n",
    "      for index, Q_vales in enumerate(self.Qtable):\n",
    "\n",
    "        self.actions[index] = int(np.argmin(Q_vales))\n",
    "      # print(self.actions)\n",
    "      # return self.actions\n",
    "\n",
    "    def random_action(self):\n",
    "      self.actions =[random.randint(0,1 + self.edgeservers) for _ in range(self.endpoints)]\n",
    "      # return self.actions\n",
    "\n",
    "    def update_Qtable(self):\n",
    "      \"\"\"The algorithm should placed here\"\"\"\n",
    "       # we are take into account the priority\n",
    "      for u in range(self.endpoints):\n",
    "          # print(self.actions[u])\n",
    "          self.Qtable[u][int(self.actions[u])] = (1-learning_rate) * self.Qtable[u][int(self.actions[u])] + learning_rate * (self.cost[u] + discount_factor * np.max(self.Qtable[u]))\n",
    "\n",
    "    def network_gain(self):\n",
    "      return np.random.choice([0.5,0.25], p = [0.5,0.5])\n",
    "    \n",
    "    def update_resource(self):\n",
    "      for r in self.resources:\n",
    "        r -= 50\n",
    "        for i in range(len(r)):\n",
    "\n",
    "          if r[i] < 0:\n",
    "            r[i] = 0\n",
    "      # return resource\n",
    "    \n",
    "    def capacity_check(self, resource):\n",
    "      c = False\n",
    "      for elem in resource:\n",
    "        if elem == 0:\n",
    "          c = True\n",
    "          return c\n",
    "    def allocate_task(self, resource, W, P):\n",
    "      for i, slot in enumerate(resource):\n",
    "        if slot == 0:\n",
    "          resource[i] = W / P\n",
    "          return resource\n",
    "          \n",
    "\n",
    "    def step(self):\n",
    "      self.cost = np.zeros(self.endpoints)\n",
    "      for u, workload,_ in sorted(self.workloads, key = lambda X: X[-1]):\n",
    "        \n",
    "        if self.actions[u] == self.n_actions - 1:\n",
    "           processor = self.resources[int(self.base_index + u)]\n",
    "           if self.capacity_check(processor):\n",
    "             self.resources[self.base_index + u] = self.allocate_task(processor, workload, self.nodes[self.base_index + u])\n",
    "             self.cost[u] = self.reward(u, self.actions[u], workload)\n",
    "           else: \n",
    "             self.cost[u] = self.reward(u, self.actions[0], workload)\n",
    "\n",
    "        else:\n",
    "          # print(self.actions[u])\n",
    "  \n",
    "          processor = self.resources[int(self.actions[u])]\n",
    "          # print(self.actions[u])\n",
    "          \n",
    "          if self.capacity_check(processor):\n",
    "             self.resources[int(self.actions[u])] = self.allocate_task(processor, workload, self.nodes[int(self.actions[u])])\n",
    "             self.cost[u] = self.reward(u,self.actions[u], workload)\n",
    "          else:\n",
    "            self.cost[u] = self.reward(u, self.actions[0], workload)\n",
    "\n",
    "    def clean_resources(self):\n",
    "        self.resources = [np.zeros(1000)]+[np.zeros(r_edgeserver) for _ in range(self.edgeservers)] + [np.zeros(r_endpoint) for _ in range(self.endpoints)]\n",
    "\n"
   ]
  },
  {
   "cell_type": "code",
   "execution_count": 23,
   "metadata": {
    "id": "H4Gv5NJGKYXP"
   },
   "outputs": [],
   "source": [
    "from posixpath import expandvars\n",
    "def Q_learning(plot = False):\n",
    "  env = Env(10,3)\n",
    "  env.configure_network()\n",
    "  # env.generate_task()\n",
    "  env.initalize_Qtable()\n",
    "  cost = []\n",
    "  for episode in range(1000):\n",
    "    for t in range(K):\n",
    "      c = 0\n",
    "      if random.random() > epsilon:\n",
    "        env.random_action()\n",
    "      else:\n",
    "        env.policy_action()\n",
    "      env.generate_task()\n",
    "      env.step()\n",
    "      c += sum(env.cost)/150\n",
    "      env.update_Qtable()\n",
    "      env.update_resource()\n",
    "    cost.append(c)\n",
    "\n",
    "  if plot:\n",
    "      plt.plot(cost, color = 'b')\n",
    "      plt.xlabel('Iterations')\n",
    "      plt.ylabel('Average cost')\n",
    "      plt.plot(cost)\n",
    "  return env\n",
    "\n"
   ]
  },
  {
   "cell_type": "code",
   "execution_count": 24,
   "metadata": {
    "colab": {
     "base_uri": "https://localhost:8080/",
     "height": 279
    },
    "id": "kkpTbK9DKs_0",
    "outputId": "315311d8-cf91-4ae1-a572-d7541e303641"
   },
   "outputs": [
    {
     "data": {
      "image/png": "[encoded data removed]",
      "text/plain": [
       "<Figure size 432x288 with 1 Axes>"
      ]
     },
     "metadata": {
      "needs_background": "light"
     },
     "output_type": "display_data"
    }
   ],
   "source": [
    "QL = Q_learning(True)\n"
   ]
  },
  {
   "cell_type": "code",
   "execution_count": 7,
   "metadata": {
    "colab": {
     "base_uri": "https://localhost:8080/"
    },
    "id": "Mvo-haZcLYgM",
    "outputId": "43e7d0ab-5e78-4780-cb0f-2153aa242a04"
   },
   "outputs": [
    {
     "data": {
      "text/plain": [
       "array([[  4.14806814,   9.02158906,   6.97292186,   8.27072025,\n",
       "          4.10421013],\n",
       "       [ 32.16255181,  30.66129504,  32.37481526,  38.99957914,\n",
       "         31.04065294],\n",
       "       [ 13.04609426,  12.64338034,   9.09503274,  12.563157  ,\n",
       "          9.22779184],\n",
       "       [ 16.17136948,  22.07178434,  16.80707181,  13.20463588,\n",
       "         13.32492745],\n",
       "       [ 99.50402171,  94.92463592,  98.14711027, 102.70657351,\n",
       "         91.58943739],\n",
       "       [122.39626886, 122.477994  , 122.3063873 , 122.35258237,\n",
       "        113.7972914 ],\n",
       "       [128.70756493, 133.42496088, 128.02144646, 127.49416735,\n",
       "        128.00887033],\n",
       "       [ 96.95788048,  89.4255044 ,  92.45167807,  97.09308563,\n",
       "         86.62562154],\n",
       "       [123.80275775, 122.61106639, 120.76344523, 121.7728668 ,\n",
       "        109.51747445],\n",
       "       [131.20080516, 134.29617902, 133.4912941 , 127.00698766,\n",
       "        130.29957496]])"
      ]
     },
     "execution_count": 7,
     "metadata": {},
     "output_type": "execute_result"
    }
   ],
   "source": [
    "QL.Qtable"
   ]
  },
  {
   "cell_type": "code",
   "execution_count": null,
   "metadata": {
    "id": "KO95zytsLvTX"
   },
   "outputs": [],
   "source": []
  }
 ],
 "metadata": {
  "colab": {
   "provenance": []
  },
  "kernelspec": {
   "display_name": "Python 3 (ipykernel)",
   "language": "python",
   "name": "python3"
  },
  "language_info": {
   "codemirror_mode": {
    "name": "ipython",
    "version": 3
   },
   "file_extension": ".py",
   "mimetype": "text/x-python",
   "name": "python",
   "nbconvert_exporter": "python",
   "pygments_lexer": "ipython3",
   "version": "3.9.13"
  }
 },
 "nbformat": 4,
 "nbformat_minor": 1
}
